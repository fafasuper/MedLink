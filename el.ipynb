{
 "cells": [
  {
   "cell_type": "code",
   "execution_count": 13,
   "id": "1d6f9cce-f2e4-48a0-9488-db7407e5f8aa",
   "metadata": {
    "tags": []
   },
   "outputs": [
    {
     "name": "stdout",
     "output_type": "stream",
     "text": [
      "Reading MRSTY from /root/autodl-tmp/entity/umls_data/MRSTY.RRF...\n"
     ]
    },
    {
     "name": "stderr",
     "output_type": "stream",
     "text": [
      "Reading MRSTY: 3549497it [00:04, 801361.35it/s]\n"
     ]
    },
    {
     "name": "stdout",
     "output_type": "stream",
     "text": [
      "Found 1234394 CUIs with relevant semantic types\n",
      "Reading MRCONSO from /root/autodl-tmp/entity/umls_data/MRCONSO.RRF...\n"
     ]
    },
    {
     "name": "stderr",
     "output_type": "stream",
     "text": [
      "Collecting CUI information: 14036386it [00:54, 258386.14it/s]\n"
     ]
    },
    {
     "name": "stdout",
     "output_type": "stream",
     "text": [
      "Generating dictionary entries...\n"
     ]
    },
    {
     "name": "stderr",
     "output_type": "stream",
     "text": [
      "Processing CUIs: 100%|██████████| 1233983/1233983 [00:26<00:00, 46069.59it/s]\n"
     ]
    },
    {
     "name": "stdout",
     "output_type": "stream",
     "text": [
      "\n",
      "Writing 3335457 entries to /root/autodl-tmp/entity/umls_data/umls_mentions_V5.jsonl...\n",
      "\n",
      "Process completed!\n",
      "Generated 3335457 dictionary entries in /root/autodl-tmp/entity/umls_data/umls_mentions_V5.jsonl\n"
     ]
    }
   ],
   "source": [
    "import json\n",
    "import csv\n",
    "from tqdm import tqdm\n",
    "from collections import defaultdict\n",
    "import re\n",
    "\n",
    "SEMANTIC_TYPES = {\n",
    "    'T047': 'Disease or Syndrome',\n",
    "    'T048': 'Mental or Behavioral Dysfunction',\n",
    "    'T184': 'Sign or Symptom',\n",
    "    'T046': 'Pathologic Function',\n",
    "    'T023': 'Body Part, Organ, or Organ Component',\n",
    "    'T029': 'Body Location or Region',\n",
    "    'T121': 'Pharmacologic Substance',\n",
    "    'T116': 'Amino Acid, Peptide, or Protein',\n",
    "    'T131': 'Hazardous or Poisonous Substance',\n",
    "    'T195': 'Antibiotic',\n",
    "    'T060': 'Diagnostic Procedure',\n",
    "    'T059': 'Laboratory Procedure',\n",
    "    'T034': 'Laboratory or Test Result',\n",
    "    'T201': 'Clinical Attribute',\n",
    "    'T033': 'Finding',\n",
    "    'T041': 'Mental Process',\n",
    "    'T170': 'Intellectual Product'\n",
    "}\n",
    "\n",
    "TTY_PRIORITY = {\n",
    "    'PF': 1,   # Preferred form \n",
    "    'PT': 2,   # Designated preferred name\n",
    "    'MH': 3,   # Main heading\n",
    "    'SY': 4,   # Designated synonym\n",
    "    'SYLL': 5, # Preferred spelling\n",
    "    'RSY': 6,  # Related synonym\n",
    "    'PN': 7    # Product name\n",
    "}\n",
    "\n",
    "COMMON_WORDS = {\n",
    "    'various', 'general', 'other', 'others', 'unspecified', 'unspecifieds',\n",
    "    'miscellaneous', 'unknown', 'nonspecific', 'non-specific', 'multiple',\n",
    "    'different', 'several', 'diverse', 'misc', 'varied', 'assorted'\n",
    "}\n",
    "\n",
    "def read_mrsty(file_path):\n",
    "    \"\"\"MRSTY.RRF\"\"\"\n",
    "    cui_to_tui = defaultdict(list)\n",
    "    print(f\"Reading MRSTY from {file_path}...\")\n",
    "    with open(file_path, 'r', encoding='utf-8') as f:\n",
    "        reader = csv.reader(f, delimiter='|')\n",
    "        for row in tqdm(reader, desc=\"Reading MRSTY\"):\n",
    "            if len(row) < 5:\n",
    "                continue\n",
    "            cui, tui = row[0], row[1]    \n",
    "            if tui in SEMANTIC_TYPES:\n",
    "                cui_to_tui[cui].append(tui)\n",
    "    return cui_to_tui\n",
    "\n",
    "def score_name(name): \n",
    "    normalized_name = name.lower().strip('.,;:!?\"\\'')\n",
    "    normalized_name = re.sub(r'\\s+', ' ', normalized_name)\n",
    "    if normalized_name in COMMON_WORDS:\n",
    "        return float('-inf')  \n",
    "    score = 0\n",
    "    length = len(name)\n",
    "    if 10 <= length <= 50:\n",
    "        score += 30\n",
    "    elif 5 <= length < 10:\n",
    "        score += 20\n",
    "    elif length > 50:\n",
    "        score -= 10\n",
    "    if any(c.isalpha() for c in name):\n",
    "        score += 20\n",
    "    special_chars = sum(1 for c in name if c in '()[]{}/\\\\')\n",
    "    score -= special_chars * 5\n",
    "    if name.isupper():\n",
    "        score -= 10\n",
    "    elif name[0].isupper() and name[1:].islower():\n",
    "        score += 15\n",
    "    if len(name) <= 3 and name.isupper():\n",
    "        score -= 15\n",
    "    return score\n",
    "\n",
    "def select_best_name(names, tty_scores=None):\n",
    "    if not names:\n",
    "        return None\n",
    "    name_scores = []\n",
    "    for i, name in enumerate(names):\n",
    "        score = score_name(name)\n",
    "        if score == float('-inf'):\n",
    "            continue\n",
    "        if tty_scores and i < len(tty_scores):\n",
    "            tty_priority = tty_scores[i]\n",
    "            score += (8 - tty_priority) * 20 \n",
    "        name_scores.append((name, score))\n",
    "    if not name_scores:\n",
    "        return None\n",
    "    name_scores.sort(key=lambda x: (-x[1], -len(x[0])))\n",
    "    return name_scores[0][0]\n",
    "\n",
    "def collect_cui_info(mrconso_path, cui_to_tui):\n",
    "    cui_info = defaultdict(lambda: {\n",
    "        'names_by_tty': defaultdict(list),  # TTY -> [names]\n",
    "        'all_mentions': set(),              # 所有可能的mention形式\n",
    "        'tty_for_name': defaultdict(str)    # name -> TTY\n",
    "    })\n",
    "    print(f\"Reading MRCONSO from {mrconso_path}...\")\n",
    "    with open(mrconso_path, 'r', encoding='utf-8') as f:\n",
    "        reader = csv.reader(f, delimiter='|')\n",
    "        for row in tqdm(reader, desc=\"Collecting CUI information\"):\n",
    "            if len(row) < 15:\n",
    "                continue\n",
    "            cui, lang, tty, name = row[0], row[1], row[12], row[14]\n",
    "            if lang != 'ENG' or cui not in cui_to_tui:\n",
    "                continue \n",
    "            name = name.strip()\n",
    "            name = name.strip('.,;:!?\"\\'')\n",
    "            name = re.sub(r'\\s+', ' ', name)\n",
    "            if not name or name.isdigit():\n",
    "                continue\n",
    "            info = cui_info[cui]\n",
    "            info['names_by_tty'][tty].append(name)\n",
    "            info['all_mentions'].add(name)\n",
    "            info['tty_for_name'][name] = tty\n",
    "    return cui_info\n",
    "\n",
    "def process_mrconso(mrconso_path, cui_to_tui, output_file):\n",
    "    cui_info = collect_cui_info(mrconso_path, cui_to_tui)\n",
    "    print(\"Generating dictionary entries...\")\n",
    "    entities = []\n",
    "    for cui, info in tqdm(cui_info.items(), desc=\"Processing CUIs\"):\n",
    "        types = [SEMANTIC_TYPES[tui] for tui in cui_to_tui[cui]]\n",
    "        standard_name = None\n",
    "        for tty in sorted(TTY_PRIORITY.keys(), key=lambda x: TTY_PRIORITY[x]):\n",
    "            if tty in info['names_by_tty']:\n",
    "                names = info['names_by_tty'][tty]\n",
    "                tty_scores = [TTY_PRIORITY[tty]] * len(names)\n",
    "                selected = select_best_name(names, tty_scores)\n",
    "                if selected:\n",
    "                    standard_name = selected\n",
    "                    break\n",
    "        if not standard_name and info['all_mentions']:\n",
    "            selected = select_best_name(list(info['all_mentions']))\n",
    "            if selected:\n",
    "                standard_name = selected\n",
    "        if not standard_name:\n",
    "            continue\n",
    "        for mention in info['all_mentions']:\n",
    "            tty = info['tty_for_name'][mention]\n",
    "            entity = {\n",
    "                \"mention\": mention,\n",
    "                \"cui\": cui,\n",
    "                \"types\": types,\n",
    "                \"from_tty\": tty,\n",
    "                \"entity_name\": standard_name,\n",
    "                \"is_preferred\": tty == 'PF' and mention == standard_name\n",
    "            }\n",
    "            entities.append(entity)\n",
    "\n",
    "    print(f\"\\nWriting {len(entities)} entries to {output_file}...\")\n",
    "    with open(output_file, 'w', encoding='utf-8') as f:\n",
    "        for entity in entities:\n",
    "            json.dump(entity, f, ensure_ascii=False)\n",
    "            f.write('\\n')\n",
    "\n",
    "    return len(entities)\n",
    "\n",
    "def main():\n",
    "\n",
    "    mrsty_path = 'MRSTY.RRF'\n",
    "    mrconso_path = 'MRCONSO.RRF'\n",
    "    output_file = 'umls_mentions.jsonl'\n",
    "\n",
    "    cui_to_tui = read_mrsty(mrsty_path)\n",
    "    print(f\"Found {len(cui_to_tui)} CUIs with relevant semantic types\")\n",
    "\n",
    "    # 处理MRCONSO并生成实体词典\n",
    "    total_entries = process_mrconso(mrconso_path, cui_to_tui, output_file)\n",
    "\n",
    "    print(f\"\\nProcess completed!\")\n",
    "    print(f\"Generated {total_entries} dictionary entries in {output_file}\")\n",
    "\n",
    "if __name__ == \"__main__\":\n",
    "    main()\n"
   ]
  },
  {
   "cell_type": "code",
   "execution_count": null,
   "id": "34ae0353-ed79-49c0-960d-487cce2dc17e",
   "metadata": {
    "tags": []
   },
   "outputs": [],
   "source": [
    "#实体词典有重复的，进行简化，来源和首选词字段也不需要，删除\n",
    "import json\n",
    "\n",
    "# 输入和输出文件路径\n",
    "input_file = \"/root/autodl-tmp/entity/umls_data/umls_mentions_V5.jsonl\"  # 替换为您的输入文件路径\n",
    "output_file = \"/root/autodl-tmp/entity/umls_data/simplified_entity_dictionary.json\"  # 替换为您的输出文件路径\n",
    "\n",
    "# 用于保存去重后的实体词典\n",
    "unique_entities = []\n",
    "\n",
    "# 用于快速查找重复项的集合\n",
    "seen_entities = set()\n",
    "\n",
    "# 读取原始实体词典文件并处理\n",
    "with open(input_file, 'r', encoding='utf-8') as infile:\n",
    "    for line in infile:\n",
    "        entity = json.loads(line.strip())\n",
    "\n",
    "        # 删除无用字段\n",
    "        entity.pop(\"from_tty\", None)\n",
    "        entity.pop(\"is_preferred\", None)\n",
    "\n",
    "        # 生成唯一标识符，用于去重（mention, cui, types, entity_name）\n",
    "        entity_key = (\n",
    "            entity[\"mention\"],\n",
    "            entity[\"cui\"],\n",
    "            tuple(entity[\"types\"]),\n",
    "            entity[\"entity_name\"]\n",
    "        )\n",
    "\n",
    "        # 只有不重复的条目才加入结果列表\n",
    "        if entity_key not in seen_entities:\n",
    "            seen_entities.add(entity_key)\n",
    "            unique_entities.append(entity)\n",
    "\n",
    "# 将简化后的实体词典保存到新的文件中\n",
    "with open(output_file, 'w', encoding='utf-8') as outfile:\n",
    "    for entity in unique_entities:\n",
    "        json.dump(entity, outfile, ensure_ascii=False)\n",
    "        outfile.write('\\n')\n",
    "\n",
    "print(f\"Simplified entity dictionary saved to {output_file}. Total unique entities: {len(unique_entities)}\")\n"
   ]
  },
  {
   "cell_type": "code",
   "execution_count": 5,
   "id": "abce37ce-1522-4536-b91e-e2cb280800db",
   "metadata": {
    "tags": []
   },
   "outputs": [
    {
     "name": "stdout",
     "output_type": "stream",
     "text": [
      "Total mentions with multiple CUIs: 23400\n",
      "Examples of mentions with multiple CUIs:\n",
      "Mention: Dipalmitoylphosphatidylcholine, CUIs: ['C0000039', 'C0216971']\n",
      "Mention: 17-hydroxysteroid dehydrogenase, CUIs: ['C0000165', 'C0525733']\n"
     ]
    }
   ],
   "source": []
  },
  {
   "cell_type": "code",
   "execution_count": 4,
   "id": "21dad40e-01b1-4cc7-9f28-8a90f069c537",
   "metadata": {
    "tags": []
   },
   "outputs": [
    {
     "name": "stdout",
     "output_type": "stream",
     "text": [
      "Original dictionary: 3335457 lines, 1233983 unique CUIs\n",
      "Simplified dictionary: 3335457 lines, 1233983 unique CUIs\n"
     ]
    }
   ],
   "source": []
  },
  {
   "cell_type": "code",
   "execution_count": 6,
   "id": "2b1573c5-0d20-4b38-9c33-16f8f6b51ed6",
   "metadata": {
    "tags": []
   },
   "outputs": [
    {
     "name": "stdout",
     "output_type": "stream",
     "text": [
      "Merged entity dictionary saved to /root/autodl-tmp/entity/umls_data/umls_mentions_merged.jsonl\n",
      "Total number of unique mentions: 3309343\n"
     ]
    }
   ],
   "source": []
  },
  {
   "cell_type": "code",
   "execution_count": 7,
   "id": "befd5299-d909-4171-8b84-0ae4f7c653ee",
   "metadata": {
    "tags": []
   },
   "outputs": [
    {
     "name": "stdout",
     "output_type": "stream",
     "text": [
      "\n",
      "First five lines of the merged file:\n",
      "{\"mention\": \"(131)I-MAA\", \"cuis\": [\"C0000005\"], \"types\": [\"Pharmacologic Substance\", \"Amino Acid, Peptide, or Protein\"], \"entity_names\": [\"(131)I-Macroaggregated Albumin\"]}\n",
      "{\"mention\": \"(131)I-Macroaggregated Albumin\", \"cuis\": [\"C0000005\"], \"types\": [\"Pharmacologic Substance\", \"Amino Acid, Peptide, or Protein\"], \"entity_names\": [\"(131)I-Macroaggregated Albumin\"]}\n",
      "{\"mention\": \"1,2 Dipalmitoyl Glycerophosphocholine\", \"cuis\": [\"C0000039\"], \"types\": [\"Pharmacologic Substance\"], \"entity_names\": [\"Dipalmitoylphosphatidylcholine\"]}\n",
      "{\"mention\": \"Dipalmitoylphosphatidylcholine\", \"cuis\": [\"C0000039\", \"C0216971\"], \"types\": [\"Pharmacologic Substance\"], \"entity_names\": [\"Colfosceril palmitate\", \"Dipalmitoylphosphatidylcholine\"]}\n",
      "{\"mention\": \"1,2 Dipalmitoylphosphatidylcholine\", \"cuis\": [\"C0000039\"], \"types\": [\"Pharmacologic Substance\"], \"entity_names\": [\"Dipalmitoylphosphatidylcholine\"]}\n"
     ]
    }
   ],
   "source": [
    "\n"
   ]
  },
  {
   "cell_type": "code",
   "execution_count": 8,
   "id": "4d365ca2-5612-46ce-89fd-27815e8478f9",
   "metadata": {
    "tags": []
   },
   "outputs": [
    {
     "name": "stdout",
     "output_type": "stream",
     "text": [
      "Processing texts from /root/autodl-tmp/entity/filtered_segments_results.jsonl...\n",
      "Loading entity dictionary from /root/autodl-tmp/entity/umls_data/umls_mentions_merged.jsonl...\n",
      "Entity dictionary loaded with 3147291 unique mentions.\n"
     ]
    },
    {
     "name": "stderr",
     "output_type": "stream",
     "text": [
      "Processing texts: 100%|██████████| 2681323/2681323 [1:45:52<00:00, 422.08lines/s]  \n"
     ]
    },
    {
     "name": "stdout",
     "output_type": "stream",
     "text": [
      "Processing completed. Results saved to /root/autodl-tmp/entity_linking_v2.jsonl.\n",
      "Errors logged to /root/autodl-tmp/entity_linking_errors.log.\n"
     ]
    }
   ],
   "source": [
    "import json\n",
    "import re\n",
    "from collections import defaultdict\n",
    "import html\n",
    "from ahocorasick import Automaton\n",
    "from tqdm import tqdm\n",
    "import logging\n",
    "\n",
    "ENTITY_FILE = './data/umls_mentions.jsonl'\n",
    "INPUT_FILE = './data/filtered_segments_results.jsonl'\n",
    "OUTPUT_FILE = './data/entity_linking.jsonl'\n",
    "ERROR_LOG_FILE = './data/entity_linking_errors.log'\n",
    "\n",
    "logging.basicConfig(filename=ERROR_LOG_FILE, level=logging.ERROR)\n",
    "\n",
    "def is_all_uppercase_word(word):\n",
    "    return len(word) >= 2 and word.isupper() and word.isalpha()\n",
    "\n",
    "def is_valid_mention(mention):\n",
    "    if re.match(r'^\\d+$', mention) or len(mention) <= 1:\n",
    "        return False\n",
    "    if re.match(r'^[-.,;:!?]+$', mention):\n",
    "        return False\n",
    "    if re.match(r'^\\d+\\s*[A-Za-z]+$', mention):\n",
    "        return False\n",
    "    return True\n",
    "\n",
    "def preprocess_text(text, preserve_case=False):\n",
    "    text = html.unescape(text)\n",
    "    text = re.sub(r'[|&#]', ' ', text)\n",
    "    text = re.sub(r'\\s+', ' ', text).strip()\n",
    "    text = text.strip('.,;:!?\"\\'')\n",
    "    if not preserve_case:\n",
    "        text = text.lower()\n",
    "    return text\n",
    "\n",
    "def load_entity_dict(entity_file):\n",
    "    print(f\"Loading entity dictionary from {entity_file}...\")\n",
    "    mention_info = defaultdict(lambda: {'cuis': set(), 'types': set(), 'entity_names': set()})\n",
    "    with open(entity_file, 'r', encoding='utf-8') as f:\n",
    "        for line in f:\n",
    "            entity = json.loads(line)\n",
    "            mention = entity['mention'].strip()\n",
    "            if is_all_uppercase_word(mention):\n",
    "                mention_norm = preprocess_text(mention, preserve_case=True)\n",
    "            else:\n",
    "                mention_norm = preprocess_text(mention).lower()\n",
    "            if not is_valid_mention(mention_norm):\n",
    "                continue\n",
    "            mention_info[mention_norm]['cuis'].update(entity['cuis'])\n",
    "            mention_info[mention_norm]['types'].update(entity['types'])\n",
    "            mention_info[mention_norm]['entity_names'].update(entity['entity_names'])\n",
    "    print(f\"Entity dictionary loaded with {len(mention_info)} unique mentions.\")\n",
    "    return mention_info\n",
    "\n",
    "def build_automaton(mention_info):\n",
    "    A = Automaton()\n",
    "    sorted_mentions = sorted(mention_info.keys(), key=len, reverse=True)\n",
    "    for mention in sorted_mentions:\n",
    "        A.add_word(mention, mention)\n",
    "    A.make_automaton()\n",
    "    return A\n",
    "\n",
    "def is_common_word(word):\n",
    "    common_words = {\n",
    "        'a', 'an', 'and', 'are', 'as', 'at', 'be', 'been', 'but', 'by',\n",
    "        'for', 'if', 'in', 'into', 'is', 'it', 'no', 'not', 'of', 'on',\n",
    "        'or', 'such', 'that', 'the', 'their', 'then', 'there', 'these',\n",
    "        'they', 'this', 'to', 'was', 'will', 'with', 'from', 'has', 'had',\n",
    "        'have', 'its', 'may', 'were', 'when', 'where', 'who', 'which'\n",
    "    }\n",
    "    return word.lower().strip('.,;:!?\"\\'') in common_words\n",
    "\n",
    "def is_valid_boundary(text, start, end):\n",
    "    if start > 0 and text[start - 1].isalnum():\n",
    "        return False\n",
    "    if end < len(text) and text[end].isalnum():\n",
    "        return False\n",
    "    matched_text = text[start:end]\n",
    "    if len(matched_text.strip()) <= 1:  \n",
    "        return False\n",
    "    if is_common_word(matched_text):  \n",
    "        return False\n",
    "    return True\n",
    "\n",
    "def annotate_text(text, automaton, mention_info):\n",
    "    original_text = text\n",
    "    text_processed = preprocess_text(text)\n",
    "    text_lower = text_processed.lower()\n",
    "    matches = []\n",
    "    for end_index, mention in automaton.iter(text_lower):\n",
    "        start_index = end_index - len(mention) + 1\n",
    "        if is_valid_boundary(text_lower, start_index, end_index + 1):\n",
    "            mention_text = original_text[start_index:end_index + 1]\n",
    "            if is_all_uppercase_word(mention):\n",
    "                if mention_text == mention:\n",
    "                    matches.append((start_index, end_index + 1, mention))\n",
    "            else:\n",
    "                matches.append((start_index, end_index + 1, mention))\n",
    "    matches.sort(key=lambda x: (-len(x[2]), x[0]))\n",
    "    filtered_matches = []\n",
    "    covered_ranges = set()\n",
    "    for start, end, mention in matches:\n",
    "        if not any(start < r[1] and end > r[0] for r in covered_ranges):\n",
    "            filtered_matches.append((start, end, mention))\n",
    "            covered_ranges.add((start, end))\n",
    "    annotations = []\n",
    "    processed_mentions = set() \n",
    "    for start, end, mention in filtered_matches:\n",
    "        if mention not in processed_mentions:  \n",
    "            mention_text = original_text[start:end]\n",
    "            entities = mention_info.get(mention, {})\n",
    "            annotation = {\n",
    "                \"mention\": mention_text,\n",
    "                \"cuis\": list(entities.get('cuis', [])),\n",
    "                \"start\": start,\n",
    "                \"end\": end,\n",
    "                \"types\": list(entities.get('types', [])),\n",
    "                \"entity_names\": list(entities.get('entity_names', []))\n",
    "            }\n",
    "            if annotation not in annotations:\n",
    "                annotations.append(annotation)\n",
    "            processed_mentions.add(mention)  \n",
    "    return annotations\n",
    "\n",
    "def process_texts_in_batches(input_file, output_file, batch_size=1000):\n",
    "    print(f\"Processing texts from {input_file}...\")\n",
    "    mention_info = load_entity_dict(ENTITY_FILE)\n",
    "    automaton = build_automaton(mention_info)\n",
    "    total_lines = sum(1 for _ in open(input_file, 'r', encoding='utf-8'))\n",
    "    with open(input_file, 'r', encoding='utf-8') as infile, \\\n",
    "         open(output_file, 'w', encoding='utf-8') as outfile:\n",
    "        batch = []\n",
    "        line_number = 0\n",
    "        pbar = tqdm(total=total_lines, desc=\"Processing texts\", unit=\"lines\")\n",
    "        for line in infile:\n",
    "            line_number += 1\n",
    "            pbar.update(1)\n",
    "            try:\n",
    "                data = json.loads(line)\n",
    "                text = data.get('text', '')\n",
    "                if not text:\n",
    "                    raise ValueError(\"No text found in data.\")\n",
    "                annotations = annotate_text(text, automaton, mention_info)\n",
    "                result = {\n",
    "                    \"text\": text,\n",
    "                    \"annotations\": annotations\n",
    "                }\n",
    "                batch.append(result)\n",
    "                if len(batch) >= batch_size:\n",
    "                    for item in batch:\n",
    "                        json.dump(item, outfile, ensure_ascii=False)\n",
    "                        outfile.write('\\n')\n",
    "                    batch = []\n",
    "            except Exception as e:\n",
    "                logging.error(f\"Error processing line {line_number}: {str(e)}\")\n",
    "        if batch:\n",
    "            for item in batch:\n",
    "                json.dump(item, outfile, ensure_ascii=False)\n",
    "                outfile.write('\\n')\n",
    "\n",
    "        pbar.close()\n",
    "    print(f\"Processing completed. Results saved to {output_file}.\")\n",
    "    print(f\"Errors logged to {ERROR_LOG_FILE}.\")\n",
    "\n",
    "if __name__ == \"__main__\":\n",
    "    process_texts_in_batches(INPUT_FILE, OUTPUT_FILE, batch_size=1000)\n"
   ]
  },
  {
   "cell_type": "code",
   "execution_count": 9,
   "id": "b5660598-06ea-471a-8d6f-6387d00c02d4",
   "metadata": {
    "tags": []
   },
   "outputs": [
    {
     "name": "stdout",
     "output_type": "stream",
     "text": [
      "Total lines: 2681323\n",
      "Random line 1: {'text': 'The two formulations were characterised with regard to size, PDI, zeta potential, and encapsulation efficiencies of OVACpG Table Physicochemical Characteristics of the PLGA NPs with OVACpG used for the AqueousNP Formulation and the dMNA. The Physicochemical Characteristics of the dMNANP Formulation are Measured while the Formulation is Liquid i. e. Before they are Added to the dMNA Average SD of three technical replicates. Size intensityweighted mean hydrodynamic particle diameters, PDI polydispersity index, ZP zeta potential, EE encapsulation efficiency dMNAs were fabricated with three different polymer formulation 5 wv PVA, 5 wv PVP, and 30 wv trehalose. All three formulations successfully formed nine sharp microneedle tips in each array Fig. dMNAs were fabricated with three different polymer formulation 5 wv PVA, 5 wv PVP, and 30 wv trehalose. Fabricated dMNAs with The Based on the results of PLGA NPs stability in the previous section, 5 wv PVA was selected as a dMNA formulation. In order to investigate the mechanical strength and dissolution ability of dMNA, skin penetration and dissolution tests were performed. The penetration study demonstrated excellent penetration efficiency of 100 as all nine microneedles penetrated the skin n 3, Fig. Hence, the dMNA formulation was further optimised by reducing the total concentration of dMNA formulation 2. 5 wv and decreasing the proportion of PLGA NPs in the formulation 19 PLGAPVA weight ratio. Skin penetration and dissolution tests were executed again with dMNAs produced with the optimised formulation. As a results, 2. 5 wv PVA dMNA 19 PLGAPVA demonstrated smilar penetration efficiency 100 and a faster dissolution ability compared to 5 wv total concentration of dMNA formulation with 14 PLGAPVA weight ratio Fig. Based on the results of PLGA NPs stability in the previous section, 5 wv PVA was selected as a dMNA formulation. dMNA fabrication using a centrifugation method results in a substantial amount of antigen loading in the backplate. Therefore, quantifying OVA in only microneedles is necessary to determine the delivered dose. Theoretically, 225 µg of PLGA NPs and 18 µg of OVA were expected to be loaded in each dMNA including backplate since the ratio of OVAPLGAPVA was 225225. Based on the BCA assays, it was determined that 3. 2 4 µg of OVA was loaded in nine microneedles 17. 8 of the total amount loaded in one dMNA. Based on the 7076 dissolved volume of the microneedles see the previous section, 2. 22.', 'annotations': [{'mention': 'centrifugation', 'cuis': ['C0007703'], 'start': 1926, 'end': 1940, 'types': ['Laboratory Procedure'], 'entity_names': ['Centrifugation']}, {'mention': 'concentration', 'cuis': ['C0086045'], 'start': 1336, 'end': 1349, 'types': ['Mental Process'], 'entity_names': ['Concentration']}, {'mention': 'decreasing', 'cuis': ['C0442797'], 'start': 1382, 'end': 1392, 'types': ['Finding'], 'entity_names': ['Decreasing']}, {'mention': 'trehalose', 'cuis': ['C0040815'], 'start': 654, 'end': 663, 'types': ['Pharmacologic Substance'], 'entity_names': ['Trehalose']}, {'mention': 'reducing', 'cuis': ['C0392756'], 'start': 1317, 'end': 1325, 'types': ['Finding'], 'entity_names': ['Reduced']}, {'mention': 'expected', 'cuis': ['C1517001'], 'start': 2167, 'end': 2175, 'types': ['Intellectual Product'], 'entity_names': ['Expected']}, {'mention': 'section', 'cuis': ['C0700320', 'C1552858', 'C1551341'], 'start': 944, 'end': 951, 'types': ['Laboratory Procedure', 'Intellectual Product'], 'entity_names': ['Sectioning', 'document section', 'section']}, {'mention': 'Liquid', 'cuis': ['C1304698'], 'start': 338, 'end': 344, 'types': ['Finding'], 'entity_names': ['Liquid']}, {'mention': 'Before', 'cuis': ['C1705850'], 'start': 351, 'end': 357, 'types': ['Intellectual Product'], 'entity_names': ['Before']}, {'mention': 'weight', 'cuis': ['C0944911', 'C2053618', 'C0424653'], 'start': 1450, 'end': 1456, 'types': ['Clinical Attribute', 'Sign or Symptom', 'Finding'], 'entity_names': ['weight', 'infant weight for previous delivery', 'Body weight:Mass:Pt:^Patient:Qn']}, {'mention': 'method', 'cuis': ['C2828387'], 'start': 1941, 'end': 1947, 'types': ['Intellectual Product'], 'entity_names': ['Method, LOINC Axis 6']}, {'mention': 'amount', 'cuis': ['C1561574'], 'start': 1973, 'end': 1979, 'types': ['Intellectual Product'], 'entity_names': ['Amount']}, {'mention': 'volume', 'cuis': ['C1705102'], 'start': 2435, 'end': 2441, 'types': ['Intellectual Product'], 'entity_names': ['Volume']}, {'mention': 'Table', 'cuis': ['C1706074'], 'start': 123, 'end': 128, 'types': ['Intellectual Product'], 'entity_names': ['Data Table']}, {'mention': 'three', 'cuis': ['C5201107'], 'start': 399, 'end': 404, 'types': ['Finding'], 'entity_names': ['Three (answer to question)']}, {'mention': 'index', 'cuis': ['C0600653', 'C0918012'], 'start': 507, 'end': 512, 'types': ['Intellectual Product'], 'entity_names': ['Index', 'Indexing']}, {'mention': 'sharp', 'cuis': ['C1444775'], 'start': 713, 'end': 718, 'types': ['Finding'], 'entity_names': ['Sharp sensation quality']}, {'mention': 'order', 'cuis': ['C1705175', 'C4284072', 'C5444833'], 'start': 1001, 'end': 1006, 'types': ['Intellectual Product'], 'entity_names': ['Order', 'Medical Order', 'Order document']}, {'mention': 'tests', 'cuis': ['C0022885', 'C0392366'], 'start': 1112, 'end': 1117, 'types': ['Laboratory Procedure', 'Intellectual Product'], 'entity_names': ['Laboratory procedures -general', 'Tests']}, {'mention': 'study', 'cuis': ['C1705923'], 'start': 1150, 'end': 1155, 'types': ['Intellectual Product'], 'entity_names': ['Study Object']}, {'mention': 'zeta', 'cuis': ['C1719914'], 'start': 66, 'end': 70, 'types': ['Intellectual Product'], 'entity_names': ['Zeta']}, {'mention': 'used', 'cuis': ['C1273517'], 'start': 189, 'end': 193, 'types': ['Finding'], 'entity_names': ['Used by']}, {'mention': 'skin', 'cuis': ['C1546781'], 'start': 1079, 'end': 1083, 'types': ['Intellectual Product'], 'entity_names': ['Skin']}, {'mention': 'only', 'cuis': ['C1720467'], 'start': 2047, 'end': 2051, 'types': ['Intellectual Product'], 'entity_names': ['Only']}, {'mention': 'dose', 'cuis': ['C1114758'], 'start': 2105, 'end': 2109, 'types': ['Clinical Attribute'], 'entity_names': ['Dose number:Num:Pt:^Patient:Qn']}, {'mention': 'PVP', 'cuis': ['C0032856'], 'start': 639, 'end': 642, 'types': ['Pharmacologic Substance'], 'entity_names': ['Povidone-containing product']}, {'mention': 'All', 'cuis': ['C1552816'], 'start': 665, 'end': 668, 'types': ['Intellectual Product'], 'entity_names': ['all']}, {'mention': 'Fig', 'cuis': ['C2728175', 'C1509507'], 'start': 750, 'end': 753, 'types': ['Pharmacologic Substance'], 'entity_names': ['Ficus carica allergenic extract', 'Fig Preparation']}, {'mention': 'one', 'cuis': ['C5201140'], 'start': 2397, 'end': 2400, 'types': ['Finding'], 'entity_names': ['1 (finding)']}]}\n",
      "Random line 2: {'text': 'and between the peak of viremia day 10 and day 45 postinfection, animals of each species revealed significant increases in the expression of genes responsible for cell growth and development. Speciesspecific differences revealed a strong acute phase response in PTs at peak VL day 10 while induction of structural genes was most prominent in AGMs at viral set point day 45. Additionally, though the inflammatory response was high and sustained in PTs, there was a higher IFN response in AGM colon at day 10, which was significantly attenuated by day 45 postinfection. Perhaps the most surprising finding was that the colon showed the smallest number of genes statistically distinguishing the two species at peak VL. Of 165 genes that distinguished PTs from AGMs in the day 10 colon ANOVA, 74 were highly induced only in the PTs Ingenuity network analysis showing connection between genes associated with NFkB signaling overlaid with expression data from insilico pooled samples of PT colon A or AGM colon B at day 10. The end of acute infection day 45 was associated with the expression of 106 genes in the colon that distinguished pathogenic and nonpathogenic infections In sum, most gene expression patterns in the colon were common to both the PT and the AGM, and between the peak of viremia day 10 and day 45 postinfection, animals of each species revealed significant increases in the expression of genes responsible for cell growth and development. This study used two NHP species to comprehensively analyze the host response associated with nonpathogenic and pathogenic SIV infection during the acute phase. Our primary findings are summarized in Although our study is the first to use global gene expression profiling to compare the host response during pathogenic and nonpathogenic SIV infection, a number of previous studies have also used NHP models in which infection outcome differs in an attempt to elucidate mechanisms associated with disease progression. Several themes have begun to emerge. For example, Cumont et al Levels of CD8 T cell activation have been directly correlated with accelerated AIDS progression Loss of T regulatory cells Tregs Numerous studies have demonstrated that varied levels of apoptosis, or the induction of apoptosisrelated genes, are linked to speciesspecific differences in disease susceptibility The increased expression of genes associated with cell damage and death in PTs may be due in part to high and sustained levels of inflammation,', 'annotations': [{'mention': 'gene expression profiling', 'cuis': ['C1449575', 'C0752248'], 'start': 1700, 'end': 1725, 'types': ['Laboratory Procedure'], 'entity_names': ['gene expression profiling', 'microarray technology']}, {'mention': 'growth and development', 'cuis': ['C1457898'], 'start': 168, 'end': 190, 'types': ['Finding'], 'entity_names': ['Growth & development aspects']}, {'mention': 'disease susceptibility', 'cuis': ['C0012655'], 'start': 2320, 'end': 2342, 'types': ['Clinical Attribute'], 'entity_names': ['Disease susceptibility']}, {'mention': 'inflammatory response', 'cuis': ['C1155266'], 'start': 399, 'end': 420, 'types': ['Pathologic Function'], 'entity_names': ['Inflammatory Response']}, {'mention': 'acute phase response', 'cuis': ['C0001349'], 'start': 238, 'end': 258, 'types': ['Pathologic Function'], 'entity_names': ['Acute phase reaction']}, {'mention': 'disease progression', 'cuis': ['C0242656'], 'start': 1950, 'end': 1969, 'types': ['Pathologic Function'], 'entity_names': ['Disease progression']}, {'mention': 'network analysis', 'cuis': ['C0868995'], 'start': 838, 'end': 854, 'types': ['Intellectual Product'], 'entity_names': ['Network analysis']}, {'mention': 'acute infection', 'cuis': ['C0275518'], 'start': 1029, 'end': 1044, 'types': ['Disease or Syndrome'], 'entity_names': ['Acute infectious disease']}, {'mention': 'inflammation', 'cuis': ['C0021368'], 'start': 2473, 'end': 2485, 'types': ['Pathologic Function'], 'entity_names': ['Inflammation']}, {'mention': 'responsible', 'cuis': ['C1273518'], 'start': 147, 'end': 158, 'types': ['Finding'], 'entity_names': ['Responsible to']}, {'mention': 'progression', 'cuis': ['C0242656'], 'start': 2118, 'end': 2129, 'types': ['Pathologic Function'], 'entity_names': ['Disease progression']}, {'mention': 'infections', 'cuis': ['C3714514', 'C0851162', 'C2707258'], 'start': 1161, 'end': 1171, 'types': ['Clinical Attribute', 'Pathologic Function', 'Disease or Syndrome'], 'entity_names': ['Infection', 'Infections:-:Pt:^Patient:-', 'Infection of musculoskeletal system']}, {'mention': 'infection', 'cuis': ['C3714514', 'C0009450'], 'start': 1581, 'end': 1590, 'types': ['Pathologic Function', 'Disease or Syndrome'], 'entity_names': ['Infection', 'Infectious or communicable disease']}, {'mention': 'increased', 'cuis': ['C5236002'], 'start': 2347, 'end': 2356, 'types': ['Finding'], 'entity_names': ['Increased']}, {'mention': 'response', 'cuis': ['C2911692', 'C1706817', 'C1704632'], 'start': 475, 'end': 483, 'types': ['Finding', 'Intellectual Product', 'Mental Process'], 'entity_names': ['Answer', 'Disease Response', 'Communication Response']}, {'mention': 'findings', 'cuis': ['C2926606'], 'start': 1627, 'end': 1635, 'types': ['Clinical Attribute'], 'entity_names': ['Procedure findings:Find:Pt:^Patient:Nar']}, {'mention': 'viremia', 'cuis': ['C0042749', 'C4721539'], 'start': 24, 'end': 31, 'types': ['Laboratory or Test Result', 'Disease or Syndrome'], 'entity_names': ['Sepsis caused by virus', 'Viremia']}, {'mention': 'animals', 'cuis': ['C3540698'], 'start': 65, 'end': 72, 'types': ['Pharmacologic Substance'], 'entity_names': ['animal allergen extracts']}, {'mention': 'finding', 'cuis': ['C2825141', 'C0243095', 'C0037088'], 'start': 596, 'end': 603, 'types': ['Sign or Symptom', 'Finding'], 'entity_names': ['Clinical findings', 'Finding', 'Experimental Finding']}, {'mention': 'common', 'cuis': ['C3245511'], 'start': 1228, 'end': 1234, 'types': ['Intellectual Product'], 'entity_names': ['common']}, {'mention': 'during', 'cuis': ['C1706551'], 'start': 1591, 'end': 1597, 'types': ['Intellectual Product'], 'entity_names': ['During']}, {'mention': 'models', 'cuis': ['C3161035'], 'start': 1854, 'end': 1860, 'types': ['Intellectual Product'], 'entity_names': ['Model']}, {'mention': 'colon', 'cuis': ['C4071907', 'C0009368'], 'start': 491, 'end': 496, 'types': ['Body Part, Organ, or Organ Component'], 'entity_names': ['Colon structure', 'Abdomen+Pelvis>Colon']}, {'mention': 'study', 'cuis': ['C1705923'], 'start': 1460, 'end': 1465, 'types': ['Intellectual Product'], 'entity_names': ['Study Object']}, {'mention': 'acute', 'cuis': ['C1547295', 'C1547229'], 'start': 1602, 'end': 1607, 'types': ['Intellectual Product'], 'entity_names': ['Acute']}, {'mention': 'death', 'cuis': ['C1306577'], 'start': 2409, 'end': 2414, 'types': ['Finding'], 'entity_names': ['Death']}, {'mention': 'high', 'cuis': ['C4522209', 'C5200928', 'C5202936'], 'start': 425, 'end': 429, 'types': ['Finding', 'Intellectual Product'], 'entity_names': ['IPSS Risk Category High', 'IPSS-R Risk Category High', 'High (finding)']}, {'mention': 'only', 'cuis': ['C1720467'], 'start': 812, 'end': 816, 'types': ['Intellectual Product'], 'entity_names': ['Only']}, {'mention': 'gene', 'cuis': ['C5849123'], 'start': 1185, 'end': 1189, 'types': ['Finding'], 'entity_names': ['Gross Extranodal Extension']}, {'mention': 'used', 'cuis': ['C1273517'], 'start': 1466, 'end': 1470, 'types': ['Finding'], 'entity_names': ['Used by']}, {'mention': 'AIDS', 'cuis': ['C0001175'], 'start': 2113, 'end': 2117, 'types': ['Disease or Syndrome'], 'entity_names': ['Acquired immune deficiency syndrome']}, {'mention': 'day', 'cuis': ['C1561538'], 'start': 32, 'end': 35, 'types': ['Intellectual Product'], 'entity_names': ['day']}, {'mention': 'set', 'cuis': ['C0036849'], 'start': 356, 'end': 359, 'types': ['Mental Process'], 'entity_names': ['Set (Psychology)']}, {'mention': 'use', 'cuis': ['C1947944'], 'start': 1689, 'end': 1692, 'types': ['Intellectual Product'], 'entity_names': ['Use']}, {'mention': 'PT', 'cuis': ['C0175252'], 'start': 981, 'end': 983, 'types': ['Body Part, Organ, or Organ Component'], 'entity_names': ['Structure of paratenial nucleus of thalamus']}, {'mention': 'al', 'cuis': ['C0002367'], 'start': 2031, 'end': 2033, 'types': ['Pharmacologic Substance'], 'entity_names': ['Aluminum-containing product']}]}\n",
      "Random line 3: {'text': 'which makes the extension of the benefits to the other half of the poor population who encounter themselves outside the system, unsustainable and unrealistic Population distribution and population age structure are crucial determinants of social, economical and health related services. From 1950 to 2000, the LAC population increased from 175 million to more than 515 million, and in 2008, the estimated population was 653 million The general population of LAC is young, with a vast proportion of children being under age 15. The decline in infant mortality rate IMR during the 1930s created the regions youthful age structure as well Population mobility, especially internationally, has also reshaped LAC population distribution. Most Central Americans and Mexicans immigrate towards the US, while many South Americans have immigrated to Europe. The region has also experienced internal immigration, especially people from Bolivia, Chile, Paraguay and Uruguay moving into Buenos Aires and Brazil, and a vast majority moving into Venezuela Population distribution and population age structure are crucial determinants of social, economical and health related services. The region has also experienced internal immigration, especially people from Bolivia, Chile, Paraguay and Uruguay moving into Buenos Aires and Brazil, and a vast majority moving into Venezuela Not so long ago, the dichotomy between communicable infectious diseases CID and noncommunicable chronic diseases CD was believed to be well defined and marked. CIDs were more prevalent in developing countries, while CDs were more prevalent in developed countries. In todays world this is not the case scenario anymore, and developed and developing nations are experiencing a phenomenon called epidemiological transition and a double burden of diseases LAC countries, like the rest of the world, are also experiencing the GBD and the epidemiological transition. However, this transition has dramatic implications since now LAC not only is struggling with CID such as malaria and tuberculosis, but also with CD such as cardiovascular disease, malignant neoplasm, chronic obstructive lung disease and diabetes mellitus According to a PAHO strategic plan for 20082012, the average life expectancy in LAC region has increased to 74. 6 years in 2005 Adding to the problem, CDs are responsible for approximately 60 of all deaths in the region, and the leading causes of CD are hypertension, obesity, hyperglycemia, and hyperlipidemia Not so long ago, the dichotomy between communicable infectious diseases CID and noncommunicable chronic diseases CD was believed to be well defined and marked.', 'annotations': [{'mention': 'chronic obstructive lung disease', 'cuis': ['C0024117'], 'start': 2124, 'end': 2156, 'types': ['Disease or Syndrome'], 'entity_names': ['Chronic obstructive pulmonary disease, unspecified']}, {'mention': 'cardiovascular disease', 'cuis': ['C0007222'], 'start': 2080, 'end': 2102, 'types': ['Disease or Syndrome'], 'entity_names': ['Disease or syndrome of cardiovascular system']}, {'mention': 'infectious diseases', 'cuis': ['C0009450'], 'start': 1415, 'end': 1434, 'types': ['Disease or Syndrome'], 'entity_names': ['Infectious or communicable disease']}, {'mention': 'malignant neoplasm', 'cuis': ['C1547218'], 'start': 2104, 'end': 2122, 'types': ['Intellectual Product'], 'entity_names': ['Malignant neoplasm']}, {'mention': 'diabetes mellitus', 'cuis': ['C0011849'], 'start': 2161, 'end': 2178, 'types': ['Disease or Syndrome'], 'entity_names': ['Diabetes mellitus']}, {'mention': 'chronic diseases', 'cuis': ['C0008679'], 'start': 1459, 'end': 1475, 'types': ['Disease or Syndrome'], 'entity_names': ['Chronic diseases']}, {'mention': 'life expectancy', 'cuis': ['C3274796'], 'start': 2240, 'end': 2255, 'types': ['Finding'], 'entity_names': ['Life Expectancy of an Individual']}, {'mention': 'hyperlipidemia', 'cuis': ['C0020473', 'C0428465', 'C0020476'], 'start': 2475, 'end': 2489, 'types': ['Finding', 'Disease or Syndrome'], 'entity_names': ['Hyperlipidaemia, unspecified', 'Serum lipids above reference range', 'Hyperlipoproteinemia']}, {'mention': 'hyperglycemia', 'cuis': ['C0020456', 'C2919432'], 'start': 2456, 'end': 2469, 'types': ['Finding', 'Disease or Syndrome'], 'entity_names': ['High glucose level in blood', 'Hyperglycaemia, unspecified']}, {'mention': 'tuberculosis', 'cuis': ['C0041296'], 'start': 2041, 'end': 2053, 'types': ['Disease or Syndrome'], 'entity_names': ['Koch; infection']}, {'mention': 'hypertension', 'cuis': ['C0020538'], 'start': 2433, 'end': 2445, 'types': ['Disease or Syndrome'], 'entity_names': ['Hypertensive cardiovascular disease or syndrome']}, {'mention': 'responsible', 'cuis': ['C1273518'], 'start': 2338, 'end': 2349, 'types': ['Finding'], 'entity_names': ['Responsible to']}, {'mention': 'increased', 'cuis': ['C5236002'], 'start': 325, 'end': 334, 'types': ['Finding'], 'entity_names': ['Increased']}, {'mention': 'mobility', 'cuis': ['C0425245', 'C0080078'], 'start': 647, 'end': 655, 'types': ['Clinical Attribute', 'Finding'], 'entity_names': ['Range of joint movement', 'Observation of mobility']}, {'mention': 'diseases', 'cuis': ['C0012634'], 'start': 1806, 'end': 1814, 'types': ['Disease or Syndrome'], 'entity_names': ['Disease or syndrome present']}, {'mention': 'related', 'cuis': ['C0445223'], 'start': 269, 'end': 276, 'types': ['Finding'], 'entity_names': ['Related']}, {'mention': 'Central', 'cuis': ['C0719205'], 'start': 737, 'end': 744, 'types': ['Pharmacologic Substance'], 'entity_names': ['Central brand of multivitamin with minerals']}, {'mention': 'defined', 'cuis': ['C3539106', 'C1704788'], 'start': 1503, 'end': 1510, 'types': ['Finding', 'Intellectual Product'], 'entity_names': ['Defined', 'Definition']}, {'mention': 'malaria', 'cuis': ['C0024530', 'C0206255'], 'start': 2029, 'end': 2036, 'types': ['Pharmacologic Substance', 'Disease or Syndrome'], 'entity_names': ['Malaria vaccine', 'Malaria, unspecified']}, {'mention': 'problem', 'cuis': ['C0033213', 'C3854081'], 'start': 2321, 'end': 2328, 'types': ['Clinical Attribute', 'Finding'], 'entity_names': ['Problem:Find:Pt:^Patient:Nom', 'Problem']}, {'mention': 'obesity', 'cuis': ['C0028754'], 'start': 2447, 'end': 2454, 'types': ['Disease or Syndrome'], 'entity_names': ['Obesity, unspecified']}, {'mention': 'during', 'cuis': ['C1706551'], 'start': 568, 'end': 574, 'types': ['Intellectual Product'], 'entity_names': ['During']}, {'mention': 'deaths', 'cuis': ['C4738113'], 'start': 2378, 'end': 2384, 'types': ['Finding'], 'entity_names': ['Fatalities']}, {'mention': 'other', 'cuis': ['C1547304', 'C2598149', 'C1868670', 'C1547272', 'C1561608', 'C1546725', 'C1556055', 'C1547241', 'C1546930', 'C1549110', 'C1546840', 'C1547233', 'C5202885', 'C1547281', 'C1546836', 'C1547994', 'C1547292', 'C1547309', 'C1549063', 'C1547267'], 'start': 49, 'end': 54, 'types': ['Clinical Attribute', 'Finding', 'Intellectual Product'], 'entity_names': ['Other - Publicity Code', 'Other - Production Class Code', 'Other - Recreational Drug Use Code', 'Other - Precaution Code', 'Other - Risk Management Incident Code', 'Other - Report Source', 'Other - Marital Status', 'Other - Mode of Arrival', 'Other - Newborn Code', 'Other - Triage Code', 'Other - Incident Type Code', 'Other - Diagnostic Service Section ID', 'Other Growth', 'Other - Patient Condition Code', 'Other - Special Program Code', 'Other:-:Pt:^Patient:-', 'Other Specimen Source Code', 'Performance Status Scale Timing Other', 'Other - Causality Observations', 'Other - Notify Clergy Code']}, {'mention': 'poor', 'cuis': ['C1547310', 'C4723750'], 'start': 67, 'end': 71, 'types': ['Intellectual Product'], 'entity_names': ['Poor', 'International Metastatic Renal Cell Carcinoma Database Consortium (IMDC) Criteria - Poor-Risk Group']}, {'mention': 'well', 'cuis': ['C5575035'], 'start': 631, 'end': 635, 'types': ['Finding'], 'entity_names': ['Well']}, {'mention': 'like', 'cuis': ['C0870814'], 'start': 1830, 'end': 1834, 'types': ['Mental Process'], 'entity_names': ['liking']}, {'mention': 'only', 'cuis': ['C1720467'], 'start': 1993, 'end': 1997, 'types': ['Intellectual Product'], 'entity_names': ['Only']}, {'mention': 'plan', 'cuis': ['C0599880'], 'start': 2209, 'end': 2213, 'types': ['Intellectual Product'], 'entity_names': ['Treatment Planning']}, {'mention': 'age', 'cuis': ['C1114365'], 'start': 197, 'end': 200, 'types': ['Clinical Attribute'], 'entity_names': ['Age:Time:Pt:^Patient:Qn']}, {'mention': 'LAC', 'cuis': ['C5241521'], 'start': 310, 'end': 313, 'types': ['Pharmacologic Substance'], 'entity_names': ['Lac vaccinum']}, {'mention': 'now', 'cuis': ['C1720566'], 'start': 1981, 'end': 1984, 'types': ['Intellectual Product'], 'entity_names': ['Now']}, {'mention': 'all', 'cuis': ['C1552816'], 'start': 2374, 'end': 2377, 'types': ['Intellectual Product'], 'entity_names': ['all']}]}\n"
     ]
    }
   ],
   "source": []
  },
  {
   "cell_type": "code",
   "execution_count": 2,
   "id": "b25c393a-0319-4580-bafb-931f0efaa55f",
   "metadata": {
    "tags": []
   },
   "outputs": [
    {
     "name": "stderr",
     "output_type": "stream",
     "text": [
      "Token indices sequence length is longer than the specified maximum sequence length for this model (555 > 512). Running this sequence through the model will result in indexing errors\n"
     ]
    }
   ],
   "source": []
  },
  {
   "cell_type": "code",
   "execution_count": 1,
   "id": "fbd37c67-2c78-44c4-a649-02dc7a0e96ad",
   "metadata": {
    "tags": []
   },
   "outputs": [
    {
     "name": "stdout",
     "output_type": "stream",
     "text": [
      "Processing texts from /root/autodl-tmp/entity/filtered_segments_results.jsonl...\n",
      "Loading entity dictionary from /root/autodl-tmp/entity/umls_data/umls_mentions_V5.jsonl...\n",
      "Entity dictionary loaded with 3147291 unique mentions.\n",
      "2091117 lines have already been processed. Resuming from line 2091118.\n"
     ]
    },
    {
     "name": "stderr",
     "output_type": "stream",
     "text": [
      "Processing texts: 100%|██████████| 590206/590206 [30:47<00:00, 319.42lines/s]  \n"
     ]
    },
    {
     "name": "stdout",
     "output_type": "stream",
     "text": [
      "Processing completed. Results saved to /root/autodl-tmp/entity_linking_results.jsonl.\n",
      "Errors logged to /root/autodl-tmp/entity_linking_errors.log.\n"
     ]
    }
   ],
   "source": []
  },
  {
   "cell_type": "code",
   "execution_count": null,
   "id": "419bcb9a-bb9a-4cf7-9180-360e3eefccee",
   "metadata": {},
   "outputs": [],
   "source": []
  }
 ],
 "metadata": {
  "kernelspec": {
   "display_name": "Python 3 (ipykernel)",
   "language": "python",
   "name": "python3"
  },
  "language_info": {
   "codemirror_mode": {
    "name": "ipython",
    "version": 3
   },
   "file_extension": ".py",
   "mimetype": "text/x-python",
   "name": "python",
   "nbconvert_exporter": "python",
   "pygments_lexer": "ipython3",
   "version": "3.8.10"
  }
 },
 "nbformat": 4,
 "nbformat_minor": 5
}
